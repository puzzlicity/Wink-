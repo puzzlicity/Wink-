{
 "cells": [
  {
   "cell_type": "code",
   "execution_count": 1,
   "id": "32228d51-d15d-4925-93f4-a50f9b6a84ef",
   "metadata": {},
   "outputs": [
    {
     "name": "stdout",
     "output_type": "stream",
     "text": [
      "Точность модели: 0.74\n",
      "Отчет классификации:\n",
      "              precision    recall  f1-score   support\n",
      "\n",
      "           0       0.74      1.00      0.85        74\n",
      "           1       0.00      0.00      0.00        26\n",
      "\n",
      "    accuracy                           0.74       100\n",
      "   macro avg       0.37      0.50      0.43       100\n",
      "weighted avg       0.55      0.74      0.63       100\n",
      "\n"
     ]
    },
    {
     "name": "stderr",
     "output_type": "stream",
     "text": [
      "/opt/anaconda3/lib/python3.12/site-packages/sklearn/metrics/_classification.py:1731: UndefinedMetricWarning: Precision is ill-defined and being set to 0.0 in labels with no predicted samples. Use `zero_division` parameter to control this behavior.\n",
      "  _warn_prf(average, modifier, f\"{metric.capitalize()} is\", result.shape[0])\n",
      "/opt/anaconda3/lib/python3.12/site-packages/sklearn/metrics/_classification.py:1731: UndefinedMetricWarning: Precision is ill-defined and being set to 0.0 in labels with no predicted samples. Use `zero_division` parameter to control this behavior.\n",
      "  _warn_prf(average, modifier, f\"{metric.capitalize()} is\", result.shape[0])\n",
      "/opt/anaconda3/lib/python3.12/site-packages/sklearn/metrics/_classification.py:1731: UndefinedMetricWarning: Precision is ill-defined and being set to 0.0 in labels with no predicted samples. Use `zero_division` parameter to control this behavior.\n",
      "  _warn_prf(average, modifier, f\"{metric.capitalize()} is\", result.shape[0])\n"
     ]
    }
   ],
   "source": [
    "#модель по предсказанию оттока сотрудников\n",
    "\n",
    "import pandas as pd\n",
    "import numpy as np\n",
    "from sklearn.model_selection import train_test_split\n",
    "from sklearn.ensemble import RandomForestClassifier\n",
    "from sklearn.metrics import classification_report, accuracy_score\n",
    "from sklearn.preprocessing import LabelEncoder\n",
    "\n",
    "def create_dataset():\n",
    "    main_data = {\n",
    "        'ФИО сотрудника': [f'Сотрудник {i}' for i in range(1, 501)],\n",
    "        'Профессиональные качества': np.random.randint(0, 6, 500),\n",
    "        'Личные качества': np.random.randint(0, 5, 500),\n",
    "        'Встречи 1:1': np.random.choice([0, 1], 500),\n",
    "        'Дискоммуникация': np.random.choice([0, 1], 500),\n",
    "        'Желание развиваться': np.random.choice([1, 0.5, 0], 500),\n",
    "        'Преемник': np.random.choice([0, 1], 500),\n",
    "        'Готовность преемника': np.random.choice(['1-2 года', '3 года', '3+ лет'], 500),\n",
    "        'Риск ухода': np.random.randint(0, 11, 500)\n",
    "    }\n",
    "    \n",
    "    leader_eval = {\n",
    "        'Достижение результатов': np.random.randint(0, 11, 500),\n",
    "        'Качество взаимодействия': np.random.randint(0, 11, 500),\n",
    "        'Общий рейтинг': np.random.randint(0, 11, 500)\n",
    "    }\n",
    "    \n",
    "    peer_eval = {\n",
    "        'Балл за результаты': np.random.randint(0, 11, 500)\n",
    "    }\n",
    "    \n",
    "    self_eval = {\n",
    "        'Оценка взаимодействия': np.random.randint(0, 11, 500),\n",
    "        'Общая удовлетворенность': np.random.randint(0, 11, 500)\n",
    "    }\n",
    "    \n",
    "    df = pd.DataFrame(main_data)\n",
    "    df = df.join(pd.DataFrame(leader_eval))\n",
    "    df = df.join(pd.DataFrame(peer_eval))\n",
    "    df = df.join(pd.DataFrame(self_eval))\n",
    "    \n",
    "    return df\n",
    "\n",
    "df = create_dataset()\n",
    "\n",
    "label_enc = LabelEncoder()\n",
    "df['Готовность преемника'] = label_enc.fit_transform(df['Готовность преемника'])\n",
    "\n",
    "df['Ушел'] = np.where(df['Риск ухода'] > 7, 1, 0)\n",
    "\n",
    "features = [\n",
    "    'Профессиональные качества', 'Личные качества', 'Встречи 1:1', 'Дискоммуникация',\n",
    "    'Желание развиваться', 'Преемник', 'Готовность преемника', 'Достижение результатов',\n",
    "    'Качество взаимодействия', 'Общий рейтинг', 'Балл за результаты',\n",
    "    'Оценка взаимодействия', 'Общая удовлетворенность'\n",
    "]\n",
    "\n",
    "X = df[features]\n",
    "y = df['Ушел']\n",
    "X_train, X_test, y_train, y_test = train_test_split(X, y, test_size=0.2, random_state=42)\n",
    "\n",
    "model = RandomForestClassifier(n_estimators=100, random_state=42)\n",
    "model.fit(X_train, y_train)\n",
    "\n",
    "y_pred = model.predict(X_test)\n",
    "print(\"Точность модели:\", accuracy_score(y_test, y_pred))\n",
    "print(\"Отчет классификации:\")\n",
    "print(classification_report(y_test, y_pred))"
   ]
  },
  {
   "cell_type": "code",
   "execution_count": null,
   "id": "2e3f61a8-082d-401a-a0c3-9eddfa658bab",
   "metadata": {},
   "outputs": [],
   "source": []
  }
 ],
 "metadata": {
  "kernelspec": {
   "display_name": "Python 3 (ipykernel)",
   "language": "python",
   "name": "python3"
  },
  "language_info": {
   "codemirror_mode": {
    "name": "ipython",
    "version": 3
   },
   "file_extension": ".py",
   "mimetype": "text/x-python",
   "name": "python",
   "nbconvert_exporter": "python",
   "pygments_lexer": "ipython3",
   "version": "3.12.4"
  }
 },
 "nbformat": 4,
 "nbformat_minor": 5
}
